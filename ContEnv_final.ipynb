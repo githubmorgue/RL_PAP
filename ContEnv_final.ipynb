{
 "cells": [
  {
   "cell_type": "code",
   "execution_count": 1,
   "metadata": {},
   "outputs": [],
   "source": [
    "import gym\n",
    "import random\n",
    "import numpy as np\n",
    "import matplotlib.pyplot as plt\n",
    "from auction_env import *\n",
    "import tensorflow as tf\n",
    "tf.compat.v1.logging.set_verbosity(tf.compat.v1.logging.ERROR)\n",
    "from stable_baselines import TD3\n",
    "from stable_baselines.common.env_checker import check_env\n",
    "from stable_baselines import results_plotter\n",
    "from stable_baselines.bench import Monitor\n",
    "%matplotlib inline\n",
    "import os"
   ]
  },
  {
   "cell_type": "code",
   "execution_count": 2,
   "metadata": {},
   "outputs": [],
   "source": [
    "# Set seeds for reproducible results\n",
    "seed = 12\n",
    "#seed = 1234\n",
    "random.seed(seed)\n",
    "np.random.seed(seed)\n",
    "tf.set_random_seed(seed)"
   ]
  },
  {
   "cell_type": "code",
   "execution_count": 3,
   "metadata": {},
   "outputs": [],
   "source": [
    "#List out our bandit arms. \n",
    "interval_size = 0.05\n",
    "no_intervals = int(1/interval_size) + 1\n",
    "bandit_arms = [(i,j) for i in range(no_intervals) for j in range(-no_intervals+1, no_intervals)]\n",
    "num_arms = len(bandit_arms)"
   ]
  },
  {
   "cell_type": "code",
   "execution_count": 4,
   "metadata": {},
   "outputs": [],
   "source": [
    "total_rounds = 50\n",
    "round_size = 1000\n",
    "total_episodes = total_rounds*round_size #Set total number of episodes to train agent on."
   ]
  },
  {
   "cell_type": "code",
   "execution_count": 5,
   "metadata": {},
   "outputs": [],
   "source": [
    "def draw_type():\n",
    "    return np.random.uniform(1,3)\n",
    "\n",
    "def agent_effort(t, gradient, constant):\n",
    "    return gradient*t/2\n",
    "\n",
    "def agent_cost(t, effort):\n",
    "    return effort**2/t\n",
    "\n",
    "def agent_production(t, effort):\n",
    "    return effort + np.random.normal(0, t/100)\n",
    "    \n",
    "def pullBandit(arm):\n",
    "    agent_type = draw_type()\n",
    "    \n",
    "    gradient, constant = arm\n",
    "    gradient *= interval_size\n",
    "    constant *= interval_size\n",
    "\n",
    "    effort = agent_effort(agent_type, gradient, constant)\n",
    "    cost = agent_cost(agent_type, effort)\n",
    "\n",
    "    if gradient*effort + constant - cost >= 0:\n",
    "        outcome = agent_production(agent_type, effort)\n",
    "        reward = outcome - gradient*outcome - constant\n",
    "    else:\n",
    "        outcome = 0\n",
    "        reward = 0\n",
    "\n",
    "    return reward"
   ]
  },
  {
   "cell_type": "markdown",
   "metadata": {},
   "source": [
    "## MC Control"
   ]
  },
  {
   "cell_type": "code",
   "execution_count": 6,
   "metadata": {},
   "outputs": [],
   "source": [
    "def make_epsilon_greedy_policy(Q, epsilon, nA):\n",
    "    \"\"\"\n",
    "    Creates an epsilon-greedy policy based on a given Q-function and epsilon.\n",
    "    \n",
    "    Args:\n",
    "        Q: A dictionary that maps from state -> action-values.\n",
    "            Each value is a numpy array of length nA (see below)\n",
    "        epsilon: The probability to select a random action. Float between 0 and 1.\n",
    "        nA: Number of actions in the environment.\n",
    "    \n",
    "    Returns:\n",
    "        A function that takes the observation as an argument and returns\n",
    "        the probabilities for each action in the form of a numpy array of length nA.\n",
    "    \n",
    "    \"\"\"\n",
    "    def policy_fn():\n",
    "        A = np.ones(nA, dtype=float) * epsilon / nA\n",
    "        best_action = np.argmax(Q)\n",
    "        A[best_action] += (1.0 - epsilon)\n",
    "        return A\n",
    "    return policy_fn"
   ]
  },
  {
   "cell_type": "code",
   "execution_count": 7,
   "metadata": {},
   "outputs": [],
   "source": [
    "epsilon = 0.025\n",
    "Q = [0] * num_arms\n",
    "Q_calc = [[0,0] for _ in range(num_arms)] # Number of actions, cumulative reward\n",
    "policy = make_epsilon_greedy_policy(Q, epsilon, num_arms)"
   ]
  },
  {
   "cell_type": "code",
   "execution_count": 8,
   "metadata": {},
   "outputs": [
    {
     "name": "stdout",
     "output_type": "stream",
     "text": [
      "Episode 50000/50000."
     ]
    }
   ],
   "source": [
    "best_actions = []\n",
    "rewards = []\n",
    "rewards_track = []\n",
    "\n",
    "for i in range(1, total_episodes + 1):\n",
    "    if i % round_size == 0:\n",
    "        print(\"\\rEpisode {}/{}.\".format(i, total_episodes), end=\"\")\n",
    "        best_actions.append(np.argmax(Q))\n",
    "        rewards_track.append(np.mean(rewards))\n",
    "        rewards = []\n",
    "            \n",
    "    action_probs = policy()\n",
    "    action = np.random.choice(np.arange(len(action_probs)), p=action_probs)\n",
    "    reward = pullBandit(bandit_arms[action])\n",
    "    rewards.append(reward)\n",
    "    \n",
    "    Q_calc[action][0] += 1\n",
    "    Q_calc[action][1] += reward\n",
    "    Q[action] = Q_calc[action][1]/Q_calc[action][0]"
   ]
  },
  {
   "cell_type": "code",
   "execution_count": 9,
   "metadata": {},
   "outputs": [
    {
     "data": {
      "text/plain": [
       "Text(0.5, 1.0, 'Discrete Action Space, Uniform Distribution Type')"
      ]
     },
     "execution_count": 9,
     "metadata": {},
     "output_type": "execute_result"
    },
    {
     "data": {
      "image/png": "[encoded data removed]",
      "text/plain": [
       "<Figure size 432x288 with 1 Axes>"
      ]
     },
     "metadata": {
      "needs_background": "light"
     },
     "output_type": "display_data"
    }
   ],
   "source": [
    "x_uniform = [i+1 for i in range(len(best_actions))]\n",
    "\n",
    "plt.plot(x_uniform, best_actions)\n",
    "plt.xlabel('Rounds (thousands)')\n",
    "plt.ylabel('Action Index')\n",
    "plt.title('Discrete Action Space, Uniform Distribution Type')"
   ]
  },
  {
   "cell_type": "code",
   "execution_count": 10,
   "metadata": {},
   "outputs": [
    {
     "data": {
      "text/plain": [
       "Text(0.5, 1.0, 'Discrete Action Space, Uniform Distribution Type')"
      ]
     },
     "execution_count": 10,
     "metadata": {},
     "output_type": "execute_result"
    },
    {
     "data": {
      "image/png": "[encoded data removed]",
      "text/plain": [
       "<Figure size 432x288 with 1 Axes>"
      ]
     },
     "metadata": {
      "needs_background": "light"
     },
     "output_type": "display_data"
    }
   ],
   "source": [
    "rewards_track_mc = rewards_track\n",
    "\n",
    "plt.plot(x_uniform, rewards_track_mc)\n",
    "plt.xlabel('Rounds (thousands)')\n",
    "plt.ylabel('Smoothed Reward')\n",
    "plt.title('Discrete Action Space, Uniform Distribution Type')"
   ]
  },
  {
   "cell_type": "code",
   "execution_count": 11,
   "metadata": {},
   "outputs": [
    {
     "data": {
      "text/plain": [
       "(17, -4)"
      ]
     },
     "execution_count": 11,
     "metadata": {},
     "output_type": "execute_result"
    }
   ],
   "source": [
    "bandit_arms[best_actions[-1]]"
   ]
  },
  {
   "cell_type": "markdown",
   "metadata": {},
   "source": [
    "## Policy Gradients"
   ]
  },
  {
   "cell_type": "code",
   "execution_count": 12,
   "metadata": {},
   "outputs": [],
   "source": [
    "tf.reset_default_graph()\n",
    "\n",
    "#These two lines established the feed-forward part of the network. \n",
    "weights = tf.Variable(tf.ones([num_arms]))\n",
    "output = tf.nn.softmax(weights)\n",
    "\n",
    "#The next six lines establish the training proceedure. We feed the reward and chosen action into the network\n",
    "#to compute the loss, and use it to update the network.\n",
    "reward_holder = tf.placeholder(shape=[1],dtype=tf.float32)\n",
    "action_holder = tf.placeholder(shape=[1],dtype=tf.int32)\n",
    "\n",
    "responsible_output = tf.slice(output,action_holder,[1])\n",
    "loss = -(tf.log(responsible_output)*reward_holder)\n",
    "\n",
    "\n",
    "global_step = tf.Variable(0, trainable=False)\n",
    "starter_learning_rate = 0.005\n",
    "decayed_learning_rate = tf.train.exponential_decay(starter_learning_rate, global_step, 1000, 0.99, staircase=True)\n",
    "optimizer = tf.train.AdamOptimizer(learning_rate=decayed_learning_rate)\n",
    "\n",
    "\n",
    "#optimizer = tf.train.AdamOptimizer(learning_rate=1e-3)\n",
    "update = optimizer.minimize(loss)"
   ]
  },
  {
   "cell_type": "code",
   "execution_count": 13,
   "metadata": {},
   "outputs": [
    {
     "name": "stdout",
     "output_type": "stream",
     "text": [
      "Episode 50000/50000."
     ]
    }
   ],
   "source": [
    "total_reward = np.zeros(num_arms) #Set scoreboard for bandit arms to 0.\n",
    "rewards = []\n",
    "best_actions_pg = [] # Store intermittent best actions\n",
    "rewards_track = [] # Store intermittent rewards smoothed over past 1000 episodes\n",
    "\n",
    "init = tf.global_variables_initializer()\n",
    "\n",
    "# Launch the tensorflow graph\n",
    "with tf.Session() as sess:\n",
    "    sess.run(init)\n",
    "    \n",
    "    for i in range(1, total_episodes + 1):\n",
    "        if i % round_size == 0:\n",
    "            print(\"\\rEpisode {}/{}.\".format(i, total_episodes), end=\"\")\n",
    "            best_actions_pg.append(np.argmax(ww))\n",
    "            rewards_track.append(np.mean(rewards))\n",
    "            rewards = []\n",
    "            \n",
    "            \n",
    "        #Choose action according to Boltzmann distribution.\n",
    "        actions = sess.run(output)\n",
    "        action = np.random.choice(list(range(num_arms)),p=actions)\n",
    "\n",
    "        reward = pullBandit(bandit_arms[action]) #Get our reward from picking one of the bandit arms.\n",
    "        if i > round_size:\n",
    "            baseline = rewards_track[-1]\n",
    "        else:\n",
    "            baseline = 0 # Leave baseline out for now\n",
    "        advantage = reward - baseline\n",
    "        #print(action, bandit_arms[action], reward)\n",
    "        \n",
    "        #Update the network.\n",
    "        _,resp,ww = sess.run([update,responsible_output,weights], feed_dict={reward_holder:[advantage],action_holder:[action]})\n",
    "        \n",
    "        #Update our running tally of scores.\n",
    "        total_reward[action] += reward\n",
    "        rewards.append(reward)\n"
   ]
  },
  {
   "cell_type": "code",
   "execution_count": 14,
   "metadata": {},
   "outputs": [
    {
     "data": {
      "text/plain": [
       "Text(0.5, 1.0, 'Discrete Action Space, Uniform Distribution Type')"
      ]
     },
     "execution_count": 14,
     "metadata": {},
     "output_type": "execute_result"
    },
    {
     "data": {
      "image/png": "[encoded data removed]",
      "text/plain": [
       "<Figure size 432x288 with 1 Axes>"
      ]
     },
     "metadata": {
      "needs_background": "light"
     },
     "output_type": "display_data"
    }
   ],
   "source": [
    "x_uniform_pg = [i+1 for i in range(len(best_actions_pg))]\n",
    "\n",
    "plt.plot(x_uniform_pg, best_actions_pg)\n",
    "plt.xlabel('Rounds (thousands)')\n",
    "plt.ylabel('Action Index')\n",
    "plt.title('Discrete Action Space, Uniform Distribution Type')"
   ]
  },
  {
   "cell_type": "code",
   "execution_count": 15,
   "metadata": {},
   "outputs": [
    {
     "data": {
      "text/plain": [
       "Text(0.5, 1.0, 'Discrete Action Space, Uniform Distribution Type')"
      ]
     },
     "execution_count": 15,
     "metadata": {},
     "output_type": "execute_result"
    },
    {
     "data": {
      "image/png": "[encoded data removed]",
      "text/plain": [
       "<Figure size 432x288 with 1 Axes>"
      ]
     },
     "metadata": {
      "needs_background": "light"
     },
     "output_type": "display_data"
    }
   ],
   "source": [
    "plt.plot(x_uniform_pg, rewards_track)\n",
    "plt.xlabel('Rounds (thousands)')\n",
    "plt.ylabel('Smoothed Reward')\n",
    "plt.title('Discrete Action Space, Uniform Distribution Type')"
   ]
  },
  {
   "cell_type": "code",
   "execution_count": 16,
   "metadata": {},
   "outputs": [
    {
     "data": {
      "text/plain": [
       "(18, -4)"
      ]
     },
     "execution_count": 16,
     "metadata": {},
     "output_type": "execute_result"
    }
   ],
   "source": [
    "bandit_arms[best_actions_pg[-1]]"
   ]
  },
  {
   "cell_type": "markdown",
   "metadata": {},
   "source": [
    "## Stable Baselines"
   ]
  },
  {
   "cell_type": "code",
   "execution_count": 17,
   "metadata": {},
   "outputs": [],
   "source": [
    "# Create log dir\n",
    "log_dir = \"tmp/\"\n",
    "os.makedirs(log_dir, exist_ok=True)"
   ]
  },
  {
   "cell_type": "code",
   "execution_count": 18,
   "metadata": {},
   "outputs": [],
   "source": [
    "def train_and_plot(algo, env, plot_title, time_steps=50000, policy='MlpPolicy', **kwargs):\n",
    "    check_env(env, warn=True)\n",
    "    env = Monitor(env, log_dir)\n",
    "    \n",
    "    model = algo(policy, env, **kwargs)\n",
    "    model.learn(total_timesteps=time_steps)\n",
    "    \n",
    "    results_plotter.plot_results([log_dir], time_steps, results_plotter.X_TIMESTEPS, plot_title)\n",
    "    plt.show()\n",
    "    return model"
   ]
  },
  {
   "cell_type": "code",
   "execution_count": 19,
   "metadata": {},
   "outputs": [
    {
     "data": {
      "image/png": "[encoded data removed]",
      "text/plain": [
       "<Figure size 576x144 with 1 Axes>"
      ]
     },
     "metadata": {
      "needs_background": "light"
     },
     "output_type": "display_data"
    }
   ],
   "source": [
    "env = ContEnv()\n",
    "model = train_and_plot(TD3, env, plot_title='TD3', time_steps=total_episodes, policy='MlpPolicy', verbose = 0)"
   ]
  },
  {
   "cell_type": "code",
   "execution_count": 20,
   "metadata": {},
   "outputs": [],
   "source": [
    "rewards_track_sb = list([res/1000 for res in results_plotter.load_results(log_dir)['r']])"
   ]
  },
  {
   "cell_type": "code",
   "execution_count": 21,
   "metadata": {},
   "outputs": [],
   "source": [
    "opt_line = [1/3 for _ in x_uniform_pg]\n",
    "x_uniform_pg = x_uniform_pg[1:]"
   ]
  },
  {
   "cell_type": "code",
   "execution_count": 22,
   "metadata": {},
   "outputs": [
    {
     "data": {
      "text/plain": [
       "<matplotlib.legend.Legend at 0x1ce93f48>"
      ]
     },
     "execution_count": 22,
     "metadata": {},
     "output_type": "execute_result"
    },
    {
     "data": {
      "image/png": "[encoded data removed]",
      "text/plain": [
       "<Figure size 432x288 with 1 Axes>"
      ]
     },
     "metadata": {
      "needs_background": "light"
     },
     "output_type": "display_data"
    }
   ],
   "source": [
    "plt.plot(x_uniform_pg, rewards_track_mc[1:], label='Bandit')\n",
    "plt.plot(x_uniform_pg, rewards_track[1:], label='REINFORCE w/ Baselines')\n",
    "plt.plot(x_uniform_pg, rewards_track_sb, label='TD3')\n",
    "plt.plot(x_uniform_pg, opt_line[1:], '--', color='r', label='Optimal Expected')\n",
    "plt.title('Large Outcome Space')\n",
    "plt.xlabel('Rounds (thousands)')\n",
    "plt.ylabel('Smoothed Principal Utility')\n",
    "plt.legend()"
   ]
  },
  {
   "cell_type": "code",
   "execution_count": null,
   "metadata": {},
   "outputs": [],
   "source": []
  }
 ],
 "metadata": {
  "kernelspec": {
   "display_name": "Python 3",
   "language": "python",
   "name": "python3"
  },
  "language_info": {
   "codemirror_mode": {
    "name": "ipython",
    "version": 3
   },
   "file_extension": ".py",
   "mimetype": "text/x-python",
   "name": "python",
   "nbconvert_exporter": "python",
   "pygments_lexer": "ipython3",
   "version": "3.7.7"
  }
 },
 "nbformat": 4,
 "nbformat_minor": 4
}
